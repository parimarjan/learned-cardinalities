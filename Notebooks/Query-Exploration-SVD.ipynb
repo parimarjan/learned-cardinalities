{
 "cells": [
  {
   "cell_type": "code",
   "execution_count": 1,
   "id": "engaged-government",
   "metadata": {},
   "outputs": [
    {
     "name": "stdout",
     "output_type": "stream",
     "text": [
      "flow loss C library not being used\n"
     ]
    }
   ],
   "source": [
    "%load_ext autoreload\n",
    "%autoreload 2\n",
    "\n",
    "import numpy as np\n",
    "import pandas as pd\n",
    "import sys\n",
    "sys.path.append(\"..\")\n",
    "\n",
    "from db_utils.utils import *\n",
    "from db_utils.query_storage import *\n",
    "from utils.utils import *\n",
    "\n",
    "#from cardinality_estimation.featurizer import Featurizer\n",
    "#from query_representation.query import load_qrep\n",
    "#from cardinality_estimation.dataset import *\n",
    "from torch.utils import data\n",
    "# from cardinality_estimation.featurizer import Featurizer\n",
    "# from query_representation.query import load_qrep\n",
    "# from cardinality_estimation.dataset import *\n",
    "# from torch.utils import data\n",
    "\n",
    "import glob\n",
    "import random\n",
    "import os\n",
    "import json\n",
    "import time\n",
    "import matplotlib.pyplot as plt"
   ]
  },
  {
   "cell_type": "markdown",
   "id": "selected-separate",
   "metadata": {},
   "source": [
    "# Setup file paths / Download query data"
   ]
  },
  {
   "cell_type": "code",
   "execution_count": 2,
   "id": "perfect-surgery",
   "metadata": {},
   "outputs": [],
   "source": [
    "import errno\n",
    "def make_dir(directory):\n",
    "    try:\n",
    "        os.makedirs(directory)\n",
    "    except OSError as e:\n",
    "        if e.errno != errno.EEXIST:\n",
    "            raise"
   ]
  },
  {
   "cell_type": "code",
   "execution_count": 3,
   "id": "hidden-somalia",
   "metadata": {},
   "outputs": [],
   "source": [
    "\n",
    "#TESTDIR = os.path.join(os.path.join(\"..\", \"queries\"), \"imdb-unique-plans\")\n",
    "#RESULTDIR = os.path.join(\"..\", \"results\")\n",
    "#make_dir(RESULTDIR)\n",
    "\n",
    "TRAINDIR = os.path.join(os.path.join(\"/Users/pari/MyCEB\", \"queries\"), \"imdb-unique-plans\")\n",
    "RTDIRS = [\"/Users/pari/prism-testbed/final_results/CEB/1gb-cache0/\", \n",
    "          \"/Users/pari/prism-testbed/final_results/CEB/ablation/\",\n",
    "          \"/Users/pari/prism-testbed/final_results/data_updates/CEB/\",\n",
    "          \"/Users/pari/prism-testbed/final_results/FCNN/all/\"]\n",
    "\n",
    "# TRAINDIR = os.path.join(os.path.join(\"/Users/pari/MyCEB\", \"queries\"), \"job\")\n",
    "# RTDIR = \"/Users/pari/prism-testbed/final_results/JOB/ablation/\"\n",
    "#RTFN = \"/Users/pari/prism-testbed/final_results/CEB/1gb-cache0/Postgres/Runtimes.csv\""
   ]
  },
  {
   "cell_type": "markdown",
   "id": "opposite-collaboration",
   "metadata": {},
   "source": [
    "# Query loading helper functions"
   ]
  },
  {
   "cell_type": "code",
   "execution_count": 4,
   "id": "hollywood-flood",
   "metadata": {},
   "outputs": [],
   "source": [
    "def load_qrep(fn):\n",
    "    assert \".pkl\" in fn\n",
    "    try:\n",
    "        with open(fn, \"rb\") as f:\n",
    "            query = pickle.load(f)\n",
    "    except:\n",
    "        print(fn + \" failed to load...\")\n",
    "        exit(-1)\n",
    "\n",
    "    query[\"subset_graph\"] = \\\n",
    "            nx.OrderedDiGraph(json_graph.adjacency_graph(query[\"subset_graph\"]))\n",
    "    query[\"join_graph\"] = json_graph.adjacency_graph(query[\"join_graph\"])\n",
    "    if \"subset_graph_paths\" in query:\n",
    "        query[\"subset_graph_paths\"] = \\\n",
    "                nx.OrderedDiGraph(json_graph.adjacency_graph(query[\"subset_graph_paths\"]))\n",
    "\n",
    "    return query\n",
    "\n",
    "def load_qdata(fns):\n",
    "    qreps = []\n",
    "    for qfn in fns:\n",
    "        qrep = load_qrep(qfn)\n",
    "        # TODO: can do checks like no queries with zero cardinalities etc.\n",
    "        qreps.append(qrep)\n",
    "        template_name = os.path.basename(os.path.dirname(qfn))\n",
    "        qrep[\"name\"] = os.path.basename(qfn)\n",
    "        qrep[\"template_name\"] = template_name\n",
    "    return qreps\n",
    "\n",
    "def get_query_fns(basedir, template_fraction=1.0, sel_templates=None):\n",
    "    fns = []\n",
    "    tmpnames = list(glob.glob(os.path.join(basedir, \"*\")))\n",
    "    print(tmpnames)\n",
    "    assert template_fraction <= 1.0\n",
    "    \n",
    "    for qi,qdir in enumerate(tmpnames):\n",
    "        if os.path.isfile(qdir):\n",
    "            print(qdir)\n",
    "            continue\n",
    "        template_name = os.path.basename(qdir)\n",
    "        if sel_templates is not None and template_name not in sel_templates:\n",
    "            continue\n",
    "        \n",
    "        # let's first select all the qfns we are going to load\n",
    "        qfns = list(glob.glob(os.path.join(qdir, \"*.pkl\")))\n",
    "        qfns.sort()\n",
    "        num_samples = max(int(len(qfns)*template_fraction), 1)\n",
    "        random.seed(1234)\n",
    "        qfns = random.sample(qfns, num_samples)\n",
    "        fns += qfns\n",
    "    return fns"
   ]
  },
  {
   "cell_type": "markdown",
   "id": "arranged-waterproof",
   "metadata": {},
   "source": [
    "# Evaluation helper functions"
   ]
  },
  {
   "cell_type": "markdown",
   "id": "lucky-omaha",
   "metadata": {},
   "source": [
    "# Load queries"
   ]
  },
  {
   "cell_type": "code",
   "execution_count": 6,
   "id": "sacred-arena",
   "metadata": {},
   "outputs": [
    {
     "name": "stdout",
     "output_type": "stream",
     "text": [
      "['/Users/pari/MyCEB/queries/imdb-unique-plans/3b', '/Users/pari/MyCEB/queries/imdb-unique-plans/9b', '/Users/pari/MyCEB/queries/imdb-unique-plans/6a', '/Users/pari/MyCEB/queries/imdb-unique-plans/5a', '/Users/pari/MyCEB/queries/imdb-unique-plans/11a', '/Users/pari/MyCEB/queries/imdb-unique-plans/1a', '/Users/pari/MyCEB/queries/imdb-unique-plans/8a', '/Users/pari/MyCEB/queries/imdb-unique-plans/2a', '/Users/pari/MyCEB/queries/imdb-unique-plans/9a', '/Users/pari/MyCEB/queries/imdb-unique-plans/3a', '/Users/pari/MyCEB/queries/imdb-unique-plans/10a', '/Users/pari/MyCEB/queries/imdb-unique-plans/dbdata.json', '/Users/pari/MyCEB/queries/imdb-unique-plans/2c', '/Users/pari/MyCEB/queries/imdb-unique-plans/4a', '/Users/pari/MyCEB/queries/imdb-unique-plans/11b', '/Users/pari/MyCEB/queries/imdb-unique-plans/2b', '/Users/pari/MyCEB/queries/imdb-unique-plans/7a']\n",
      "/Users/pari/MyCEB/queries/imdb-unique-plans/dbdata.json\n",
      "624\n"
     ]
    }
   ],
   "source": [
    "# set template_fraction <= 1.0 to test quickly w/ smaller datasets\n",
    "# train_qfns = get_query_fns(TRAINDIR, template_fraction = 0.001)\n",
    "# val_qfns = get_query_fns(VALDIR, template_fraction = 1.0)\n",
    "# test_qfns = get_query_fns(TESTDIR, template_fraction = 1.0)\n",
    "\n",
    "#qfns = get_query_fns(TRAINDIR, template_fraction = 1.0, sel_templates=None)\n",
    "\n",
    "qfns = get_query_fns(TRAINDIR, template_fraction = 1.0, sel_templates=\"1a\")\n",
    "print(len(qfns))\n",
    "qdata = load_qdata(qfns)"
   ]
  },
  {
   "cell_type": "code",
   "execution_count": 77,
   "id": "b8a8a538",
   "metadata": {},
   "outputs": [],
   "source": [
    "from collections import defaultdict\n",
    "import numpy\n",
    "\n",
    "subplan_data = defaultdict(list)\n",
    "\n",
    "rowkeys = set()\n",
    "for qi, qrep in enumerate(qdata):\n",
    "    for node in qrep[\"subset_graph\"].nodes():\n",
    "#         if len(node) == 1:\n",
    "#             continue\n",
    "  \n",
    "        rowkeys.add(node)\n",
    "        \n",
    "rowkeys = list(rowkeys)\n",
    "rowkeys.sort()\n",
    "rowidxs = {rk:ri for ri,rk in enumerate(rowkeys)}\n",
    "\n",
    "mat = np.zeros((len(rowidxs), len(qdata)))\n",
    "\n",
    "for qi, qrep in enumerate(qdata):\n",
    "    for node in qrep[\"subset_graph\"].nodes():\n",
    "        if node not in rowidxs:\n",
    "            continue\n",
    "        truec = qrep[\"subset_graph\"].nodes()[node][\"cardinality\"][\"actual\"]\n",
    "        mat[rowidxs[node], qi] = truec\n",
    "\n",
    "#mat = mat.T"
   ]
  },
  {
   "cell_type": "code",
   "execution_count": 78,
   "id": "eb2c4d00",
   "metadata": {},
   "outputs": [
    {
     "data": {
      "text/plain": [
       "(107, 624)"
      ]
     },
     "execution_count": 78,
     "metadata": {},
     "output_type": "execute_result"
    }
   ],
   "source": [
    "mat.shape"
   ]
  },
  {
   "cell_type": "code",
   "execution_count": 80,
   "id": "better-holly",
   "metadata": {},
   "outputs": [
    {
     "data": {
      "text/plain": [
       "36244344.0"
      ]
     },
     "execution_count": 80,
     "metadata": {},
     "output_type": "execute_result"
    }
   ],
   "source": [
    "np.max(mat)"
   ]
  },
  {
   "cell_type": "code",
   "execution_count": 81,
   "id": "4d1bd165",
   "metadata": {},
   "outputs": [
    {
     "name": "stdout",
     "output_type": "stream",
     "text": [
      "(107,)\n"
     ]
    }
   ],
   "source": [
    "P, S, Q = np.linalg.svd(mat, full_matrices=False)\n",
    "print(S.shape)"
   ]
  },
  {
   "cell_type": "code",
   "execution_count": 82,
   "id": "09bf9163",
   "metadata": {},
   "outputs": [
    {
     "data": {
      "text/plain": [
       "array([1.26441131e+09, 4.28203580e+08, 2.72293689e+08, 2.16699664e+08,\n",
       "       2.05276743e+08, 1.95238294e+08, 1.75423351e+08, 8.03451918e+07,\n",
       "       7.36884469e+07, 6.90065358e+07, 6.14237892e+07, 5.58483410e+07,\n",
       "       4.40444449e+07, 4.32636552e+07, 3.90621398e+07, 3.32399266e+07,\n",
       "       3.14366017e+07, 2.76109451e+07, 2.68291147e+07, 1.98812680e+07,\n",
       "       1.93228379e+07, 1.40059396e+07, 1.34692996e+07, 1.25410508e+07,\n",
       "       1.19584900e+07, 1.14863429e+07, 1.09263765e+07, 1.06217417e+07,\n",
       "       8.62690510e+06, 8.27294001e+06, 7.27326175e+06, 6.74712284e+06,\n",
       "       6.01963388e+06, 5.63519847e+06, 4.26055440e+06, 3.87942281e+06,\n",
       "       3.66987535e+06, 3.51567109e+06, 3.22417560e+06, 3.05645472e+06,\n",
       "       2.95191734e+06, 2.84187883e+06, 2.41138654e+06, 2.30215064e+06,\n",
       "       2.03261492e+06, 1.82115927e+06, 1.72615730e+06, 1.56918990e+06,\n",
       "       1.41193621e+06, 1.28772366e+06, 1.08605781e+06, 9.79750710e+05,\n",
       "       9.45476190e+05, 8.52625110e+05, 8.20864350e+05, 7.55844690e+05,\n",
       "       6.88078590e+05, 6.23691920e+05, 5.98567950e+05, 5.57229620e+05,\n",
       "       4.93508320e+05, 4.24129590e+05, 3.59245680e+05, 3.37785810e+05,\n",
       "       3.32804770e+05, 2.97057840e+05, 2.81918420e+05, 2.71696940e+05,\n",
       "       2.56669130e+05, 2.47535320e+05, 2.42592400e+05, 2.29138530e+05,\n",
       "       2.13453480e+05, 2.08307290e+05, 1.82357320e+05, 1.53785680e+05,\n",
       "       1.36660460e+05, 8.92429800e+04, 8.15740900e+04, 7.89606200e+04,\n",
       "       7.85511300e+04, 7.50329800e+04, 6.68684400e+04, 5.69745300e+04,\n",
       "       5.19845000e+04, 4.89392100e+04, 4.82401100e+04, 4.62727200e+04,\n",
       "       4.42238100e+04, 3.81980500e+04, 2.67761700e+04, 2.50902200e+04,\n",
       "       2.29303700e+04, 1.80849100e+04, 1.61257700e+04, 1.40745800e+04,\n",
       "       1.38341900e+04, 1.29164800e+04, 6.96707000e+03, 5.56821000e+03,\n",
       "       5.06530000e+03, 2.28740000e+03, 1.42848000e+03, 2.30100000e+01,\n",
       "       1.67300000e+01, 0.00000000e+00, 0.00000000e+00])"
      ]
     },
     "execution_count": 82,
     "metadata": {},
     "output_type": "execute_result"
    }
   ],
   "source": [
    "S.round(2)"
   ]
  },
  {
   "cell_type": "code",
   "execution_count": 83,
   "id": "d76cd171",
   "metadata": {},
   "outputs": [
    {
     "data": {
      "text/plain": [
       "58078520.304284394"
      ]
     },
     "execution_count": 83,
     "metadata": {},
     "output_type": "execute_result"
    }
   ],
   "source": [
    "np.percentile(S, 90)"
   ]
  },
  {
   "cell_type": "code",
   "execution_count": 84,
   "id": "30052715",
   "metadata": {},
   "outputs": [
    {
     "data": {
      "image/png": "[encoded data removed]",
      "text/plain": [
       "<Figure size 432x288 with 1 Axes>"
      ]
     },
     "metadata": {
      "needs_background": "light"
     },
     "output_type": "display_data"
    }
   ],
   "source": [
    "import seaborn as sns\n",
    "import matplotlib.pyplot as plt\n",
    "\n",
    "#sns.lineplot(np.log(S))\n",
    "#sns.lineplot(y=S)\n",
    "plt.plot(S)\n",
    "plt.yscale(\"log\")\n",
    "plt.show()"
   ]
  },
  {
   "cell_type": "code",
   "execution_count": 85,
   "id": "03a94323",
   "metadata": {},
   "outputs": [
    {
     "data": {
      "text/plain": [
       "14"
      ]
     },
     "execution_count": 85,
     "metadata": {},
     "output_type": "execute_result"
    }
   ],
   "source": [
    "cds = np.cumsum(S) / np.sum(S)\n",
    "r90 = np.min(np.where(cds > 0.90))\n",
    "r90"
   ]
  },
  {
   "cell_type": "code",
   "execution_count": 86,
   "id": "968b8d11",
   "metadata": {},
   "outputs": [],
   "source": [
    "def omega_approx(beta):\n",
    "    \"\"\"Return an approximate omega value for given beta. Equation (5) from Gavish 2014.\"\"\"\n",
    "    return 0.56 * beta**3 - 0.95 * beta**2 + 1.82 * beta + 1.43\n",
    "\n",
    "def svht(X, sigma=None, sv=None):\n",
    "    \"\"\"Return the optimal singular value hard threshold (SVHT) value.\n",
    "    `X` is any m-by-n matrix. `sigma` is the standard deviation of the \n",
    "    noise, if known. Optionally supply the vector of singular values `sv`\n",
    "    for the matrix (only necessary when `sigma` is unknown). If `sigma`\n",
    "    is unknown and `sv` is not supplied, then the method automatically\n",
    "    computes the singular values.\"\"\"\n",
    "\n",
    "    try:\n",
    "        m,n = sorted(X.shape) # ensures m <= n\n",
    "    except:\n",
    "        raise ValueError('invalid input matrix')\n",
    "    beta = m / n # ratio between 0 and 1\n",
    "    if sigma is None: # sigma unknown\n",
    "        if sv is None:\n",
    "            sv = svdvals(X)\n",
    "        sv = np.squeeze(sv)\n",
    "        if sv.ndim != 1:\n",
    "            raise ValueError('vector of singular values must be 1-dimensional')\n",
    "        return np.median(sv) * omega_approx(beta)\n",
    "    else: # sigma known\n",
    "        return lambda_star(beta) * np.sqrt(n) * sigma\n",
    "\n",
    "# find tau star hat when sigma is unknown\n",
    "# tau = svht(D, sv=sv)\n",
    "\n",
    "# # find tau star when sigma is known\n",
    "# tau = svht(D, sigma=0.5)"
   ]
  },
  {
   "cell_type": "code",
   "execution_count": 87,
   "id": "a079818f",
   "metadata": {},
   "outputs": [],
   "source": [
    "tau = svht(mat, sv=S)"
   ]
  },
  {
   "cell_type": "code",
   "execution_count": 88,
   "id": "34791e50",
   "metadata": {},
   "outputs": [
    {
     "data": {
      "text/plain": [
       "1463934.7477145544"
      ]
     },
     "execution_count": 88,
     "metadata": {},
     "output_type": "execute_result"
    }
   ],
   "source": [
    "tau"
   ]
  },
  {
   "cell_type": "code",
   "execution_count": 89,
   "id": "2a0b54de",
   "metadata": {},
   "outputs": [
    {
     "data": {
      "text/plain": [
       "48"
      ]
     },
     "execution_count": 89,
     "metadata": {},
     "output_type": "execute_result"
    }
   ],
   "source": [
    "rank = np.sum(S > tau)\n",
    "rank"
   ]
  },
  {
   "cell_type": "code",
   "execution_count": 37,
   "id": "b1d0eb3a",
   "metadata": {},
   "outputs": [],
   "source": [
    "import copy\n",
    "newmat = np.zeros(mat.shape)\n",
    "#print(newmat.shape)\n",
    "for col in range(mat.shape[1]):\n",
    "    #print(col)\n",
    "    curcol = copy.deepcopy(mat[:,col])\n",
    "    #print(curcol.shape)\n",
    "    indices = np.random.choice(np.arange(curcol.size), replace=False,\n",
    "                           size=int(curcol.size * 0.2))\n",
    "    curcol[indices] = 0.0\n",
    "    newmat[:,col] = curcol"
   ]
  },
  {
   "cell_type": "code",
   "execution_count": 38,
   "id": "declared-honolulu",
   "metadata": {},
   "outputs": [
    {
     "data": {
      "text/plain": [
       "(107, 624)"
      ]
     },
     "execution_count": 38,
     "metadata": {},
     "output_type": "execute_result"
    }
   ],
   "source": [
    "mat.shape"
   ]
  },
  {
   "cell_type": "code",
   "execution_count": 39,
   "id": "manual-conclusion",
   "metadata": {},
   "outputs": [
    {
     "data": {
      "text/plain": [
       "(107, 624)"
      ]
     },
     "execution_count": 39,
     "metadata": {},
     "output_type": "execute_result"
    }
   ],
   "source": [
    "newmat.shape"
   ]
  },
  {
   "cell_type": "code",
   "execution_count": 90,
   "id": "constitutional-survey",
   "metadata": {},
   "outputs": [],
   "source": [
    "def qerr(mat, newmat):\n",
    "    mat = np.maximum(mat, 1)\n",
    "    newmat = np.maximum(newmat, 1)\n",
    "    print(mat.shape)\n",
    "    return np.mean(np.maximum (mat / newmat, newmat / mat))"
   ]
  },
  {
   "cell_type": "code",
   "execution_count": 91,
   "id": "supreme-night",
   "metadata": {},
   "outputs": [
    {
     "name": "stdout",
     "output_type": "stream",
     "text": [
      "(107, 624)\n"
     ]
    },
    {
     "data": {
      "text/plain": [
       "377780.49820273183"
      ]
     },
     "execution_count": 91,
     "metadata": {},
     "output_type": "execute_result"
    }
   ],
   "source": [
    "qerr(mat, newmat)"
   ]
  },
  {
   "cell_type": "code",
   "execution_count": 92,
   "id": "growing-death",
   "metadata": {},
   "outputs": [
    {
     "data": {
      "text/plain": [
       "1.0"
      ]
     },
     "execution_count": 92,
     "metadata": {},
     "output_type": "execute_result"
    }
   ],
   "source": [
    "newmat = np.maximum(newmat, 1)\n",
    "np.min(newmat)"
   ]
  },
  {
   "cell_type": "code",
   "execution_count": 66,
   "id": "underlying-formation",
   "metadata": {},
   "outputs": [
    {
     "data": {
      "text/plain": [
       "1.0"
      ]
     },
     "execution_count": 66,
     "metadata": {},
     "output_type": "execute_result"
    }
   ],
   "source": [
    "np.min(newmat)"
   ]
  },
  {
   "cell_type": "code",
   "execution_count": 73,
   "id": "related-flashing",
   "metadata": {},
   "outputs": [
    {
     "data": {
      "text/plain": [
       "1.0"
      ]
     },
     "execution_count": 73,
     "metadata": {},
     "output_type": "execute_result"
    }
   ],
   "source": [
    "np.min(newmat)"
   ]
  },
  {
   "cell_type": "code",
   "execution_count": 75,
   "id": "caroline-trance",
   "metadata": {},
   "outputs": [
    {
     "data": {
      "text/plain": [
       "inf"
      ]
     },
     "execution_count": 75,
     "metadata": {},
     "output_type": "execute_result"
    }
   ],
   "source": [
    "np.max(mat)"
   ]
  },
  {
   "cell_type": "code",
   "execution_count": 76,
   "id": "vulnerable-million",
   "metadata": {},
   "outputs": [
    {
     "data": {
      "text/plain": [
       "array([[3.6244344e+07, 3.6244344e+07, 3.6244344e+07, ..., 3.6244344e+07,\n",
       "        3.6244344e+07, 3.6244344e+07],\n",
       "       [1.0570000e+03, 9.6660000e+03, 3.7080000e+03, ..., 1.1528000e+04,\n",
       "        1.2643800e+05, 1.1000000e+02],\n",
       "       [2.3532000e+04,           inf, 4.9768000e+04, ..., 1.9617140e+06,\n",
       "        1.5435600e+05, 3.7640000e+04],\n",
       "       ...,\n",
       "       [3.2059360e+06,           inf, 1.7395790e+06, ...,           inf,\n",
       "        1.7395790e+06,           inf],\n",
       "       [2.0000000e+00,           inf, 2.0000000e+00, ...,           inf,\n",
       "                  inf, 1.0000000e+00],\n",
       "       [4.5156900e+05, 1.0398000e+05, 9.8978700e+05, ..., 2.0046120e+06,\n",
       "        5.3823900e+05, 2.0186660e+06]])"
      ]
     },
     "execution_count": 76,
     "metadata": {},
     "output_type": "execute_result"
    }
   ],
   "source": [
    "mat"
   ]
  },
  {
   "cell_type": "code",
   "execution_count": null,
   "id": "raised-garbage",
   "metadata": {},
   "outputs": [],
   "source": []
  }
 ],
 "metadata": {
  "kernelspec": {
   "display_name": "Python 3",
   "language": "python",
   "name": "python3"
  },
  "language_info": {
   "codemirror_mode": {
    "name": "ipython",
    "version": 3
   },
   "file_extension": ".py",
   "mimetype": "text/x-python",
   "name": "python",
   "nbconvert_exporter": "python",
   "pygments_lexer": "ipython3",
   "version": "3.9.10"
  }
 },
 "nbformat": 4,
 "nbformat_minor": 5
}
