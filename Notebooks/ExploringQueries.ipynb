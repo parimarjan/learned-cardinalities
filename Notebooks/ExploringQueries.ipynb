{
 "cells": [
  {
   "cell_type": "code",
   "execution_count": null,
   "id": "orange-devon",
   "metadata": {},
   "outputs": [],
   "source": [
    "%load_ext autoreload\n",
    "%autoreload 2\n",
    "\n",
    "import numpy as np\n",
    "import pandas as pd\n",
    "\n",
    "from cardinality_estimation.featurizer import Featurizer\n",
    "from query_representation.query import load_qrep\n",
    "\n",
    "import glob\n",
    "import random\n",
    "import os\n",
    "import json\n",
    "import time\n",
    "from collections import defaultdict"
   ]
  },
  {
   "cell_type": "code",
   "execution_count": null,
   "id": "difficult-expense",
   "metadata": {},
   "outputs": [],
   "source": [
    "TRAINDIR = os.path.join(os.path.join(\"\", \"queries\"), \"mlsys1-train\")"
   ]
  },
  {
   "cell_type": "code",
   "execution_count": null,
   "id": "rough-thread",
   "metadata": {},
   "outputs": [],
   "source": [
    "\n",
    "def load_qdata(fns):\n",
    "    qreps = []\n",
    "    for qfn in fns:\n",
    "        qrep = load_qrep(qfn)\n",
    "        # TODO: can do checks like no queries with zero cardinalities etc.\n",
    "        qreps.append(qrep)\n",
    "        template_name = os.path.basename(os.path.dirname(qfn))\n",
    "        qrep[\"name\"] = os.path.basename(qfn)\n",
    "        qrep[\"template_name\"] = template_name\n",
    "    return qreps\n",
    "\n",
    "def get_query_fns(basedir, template_fraction=1.0):\n",
    "    fns = []\n",
    "    tmpnames = list(glob.glob(os.path.join(basedir, \"*\")))\n",
    "    assert template_fraction <= 1.0\n",
    "    \n",
    "    for qi,qdir in enumerate(tmpnames):\n",
    "        if os.path.isfile(qdir):\n",
    "            continue\n",
    "        template_name = os.path.basename(qdir)\n",
    "        # let's first select all the qfns we are going to load\n",
    "        qfns = list(glob.glob(os.path.join(qdir, \"*.pkl\")))\n",
    "        qfns.sort()\n",
    "        num_samples = max(int(len(qfns)*template_fraction), 1)\n",
    "        random.seed(1234)\n",
    "        qfns = random.sample(qfns, num_samples)\n",
    "        fns += qfns\n",
    "    return fns"
   ]
  },
  {
   "cell_type": "code",
   "execution_count": null,
   "id": "sporting-alarm",
   "metadata": {},
   "outputs": [],
   "source": [
    "train_qfns = get_query_fns(TRAINDIR, template_fraction = 0.1)\n",
    "trainqs = load_qdata(train_qfns)"
   ]
  },
  {
   "cell_type": "code",
   "execution_count": null,
   "id": "psychological-brush",
   "metadata": {},
   "outputs": [],
   "source": [
    "allconstants = defaultdict(set)\n",
    "constantmaxs = defaultdict(int)"
   ]
  },
  {
   "cell_type": "code",
   "execution_count": null,
   "id": "abandoned-period",
   "metadata": {},
   "outputs": [],
   "source": [
    "for query in trainqs:\n",
    "    for node in query[\"join_graph\"].nodes():\n",
    "        for ci, col in enumerate(query[\"join_graph\"].nodes()[node][\"pred_cols\"]):\n",
    "            consts = query[\"join_graph\"].nodes()[node][\"pred_vals\"][ci]\n",
    "            for const in consts:\n",
    "                allconstants[col].add(const)\n",
    "            if constantmaxs[col] < len(consts):\n",
    "                constantmaxs[col] = len(consts)\n",
    "#             if len(consts) > 20:\n",
    "#                 print(consts)\n",
    "#                 print(query[\"sql\"])\n",
    "#                 print(query[\"name\"])"
   ]
  },
  {
   "cell_type": "code",
   "execution_count": null,
   "id": "thick-classics",
   "metadata": {},
   "outputs": [],
   "source": [
    "for k,v in allconstants.items():\n",
    "    print(k, len(v), constantmaxs[k])"
   ]
  },
  {
   "cell_type": "code",
   "execution_count": null,
   "id": "employed-earth",
   "metadata": {},
   "outputs": [],
   "source": []
  }
 ],
 "metadata": {
  "kernelspec": {
   "display_name": "Python 3 (ipykernel)",
   "language": "python",
   "name": "python3"
  },
  "language_info": {
   "codemirror_mode": {
    "name": "ipython",
    "version": 3
   },
   "file_extension": ".py",
   "mimetype": "text/x-python",
   "name": "python",
   "nbconvert_exporter": "python",
   "pygments_lexer": "ipython3",
   "version": "3.10.5"
  }
 },
 "nbformat": 4,
 "nbformat_minor": 5
}
