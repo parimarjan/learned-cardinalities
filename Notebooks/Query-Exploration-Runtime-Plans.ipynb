{
 "cells": [
  {
   "cell_type": "code",
   "execution_count": 42,
   "id": "engaged-government",
   "metadata": {},
   "outputs": [
    {
     "name": "stdout",
     "output_type": "stream",
     "text": [
      "flow loss C library not being used\n",
      "The autoreload extension is already loaded. To reload it, use:\n",
      "  %reload_ext autoreload\n"
     ]
    }
   ],
   "source": [
    "%load_ext autoreload\n",
    "%autoreload 2\n",
    "\n",
    "import numpy as np\n",
    "import pandas as pd\n",
    "import sys\n",
    "sys.path.append(\"..\")\n",
    "#sys.path.append(\"~/sql_representation/\")\n",
    "\n",
    "from db_utils.utils import *\n",
    "from db_utils.query_storage import *\n",
    "from utils.utils import *\n",
    "\n",
    "#from cardinality_estimation.featurizer import Featurizer\n",
    "#from query_representation.query import load_qrep\n",
    "#from cardinality_estimation.dataset import *\n",
    "from torch.utils import data\n",
    "\n",
    "import glob\n",
    "import random\n",
    "import os\n",
    "import json\n",
    "import time\n",
    "import matplotlib.pyplot as plt\n",
    "import networkx as nx"
   ]
  },
  {
   "cell_type": "code",
   "execution_count": 245,
   "id": "hidden-somalia",
   "metadata": {},
   "outputs": [],
   "source": [
    "\n",
    "#TESTDIR = os.path.join(os.path.join(\"..\", \"queries\"), \"imdb-unique-plans\")\n",
    "#RESULTDIR = os.path.join(\"..\", \"results\")\n",
    "#make_dir(RESULTDIR)\n",
    "\n",
    "TRAINDIR = os.path.join(os.path.join(\"/Users/pari/MyCEB\", \"queries\"), \"imdb-unique-plans\")\n",
    "RTDIRS = [\"/Users/pari/prism-testbed/final_results/CEB/1gb-cache0/\", \n",
    "          \"/Users/pari/prism-testbed/final_results/CEB/ablation/\",\n",
    "          \"/Users/pari/prism-testbed/final_results/data_updates/CEB/\",\n",
    "          \"/Users/pari/prism-testbed/final_results/FCNN/all/\"]\n",
    "\n",
    "# TRAINDIR = os.path.join(os.path.join(\"/Users/pari/MyCEB\", \"queries\"), \"job\")\n",
    "# RTDIR = \"/Users/pari/prism-testbed/final_results/JOB/ablation/\"\n",
    "#RTFN = \"/Users/pari/prism-testbed/final_results/CEB/1gb-cache0/Postgres/Runtimes.csv\""
   ]
  },
  {
   "cell_type": "code",
   "execution_count": 246,
   "id": "known-gender",
   "metadata": {},
   "outputs": [],
   "source": [
    "#G = explain_to_nx(data[0][0][0])"
   ]
  },
  {
   "cell_type": "code",
   "execution_count": 247,
   "id": "entitled-madonna",
   "metadata": {},
   "outputs": [],
   "source": [
    "#G.nodes()"
   ]
  },
  {
   "cell_type": "code",
   "execution_count": 248,
   "id": "assisted-firmware",
   "metadata": {},
   "outputs": [],
   "source": [
    "rtdfs = []\n",
    "\n",
    "for RTDIR in RTDIRS:    \n",
    "    rdirs = os.listdir(RTDIR)\n",
    "    for rd in rdirs:\n",
    "        rtfn = os.path.join(RTDIR, rd, \"Runtimes.csv\")\n",
    "        if os.path.exists(rtfn):\n",
    "            rtdfs.append(pd.read_csv(rtfn))"
   ]
  },
  {
   "cell_type": "code",
   "execution_count": 249,
   "id": "entertaining-cleaning",
   "metadata": {},
   "outputs": [],
   "source": [
    "rtdf = pd.concat(rtdfs)"
   ]
  },
  {
   "cell_type": "markdown",
   "id": "opposite-collaboration",
   "metadata": {},
   "source": [
    "# Query loading helper functions"
   ]
  },
  {
   "cell_type": "code",
   "execution_count": 250,
   "id": "hollywood-flood",
   "metadata": {},
   "outputs": [],
   "source": [
    "def load_qrep(fn):\n",
    "    assert \".pkl\" in fn\n",
    "    try:\n",
    "        with open(fn, \"rb\") as f:\n",
    "            query = pickle.load(f)\n",
    "    except:\n",
    "        print(fn + \" failed to load...\")\n",
    "        exit(-1)\n",
    "\n",
    "    query[\"subset_graph\"] = \\\n",
    "            nx.OrderedDiGraph(json_graph.adjacency_graph(query[\"subset_graph\"]))\n",
    "    query[\"join_graph\"] = json_graph.adjacency_graph(query[\"join_graph\"])\n",
    "    if \"subset_graph_paths\" in query:\n",
    "        query[\"subset_graph_paths\"] = \\\n",
    "                nx.OrderedDiGraph(json_graph.adjacency_graph(query[\"subset_graph_paths\"]))\n",
    "\n",
    "    return query\n",
    "\n",
    "\n",
    "def load_qdata(fns):\n",
    "    qreps = []\n",
    "    for qfn in fns:\n",
    "        qrep = load_qrep(qfn)\n",
    "        #qrep = load_sql_qrep(qfn)\n",
    "        # TODO: can do checks like no queries with zero cardinalities etc.\n",
    "        qreps.append(qrep)\n",
    "        template_name = os.path.basename(os.path.dirname(qfn))\n",
    "        qrep[\"name\"] = os.path.basename(qfn)\n",
    "        qrep[\"template_name\"] = template_name\n",
    "    return qreps\n",
    "\n",
    "def get_query_fns(basedir, template_fraction=1.0, sel_templates=None):\n",
    "    fns = []\n",
    "    tmpnames = list(glob.glob(os.path.join(basedir, \"*\")))\n",
    "    print(tmpnames)\n",
    "    assert template_fraction <= 1.0\n",
    "    \n",
    "    for qi,qdir in enumerate(tmpnames):\n",
    "        if os.path.isfile(qdir):\n",
    "            print(qdir)\n",
    "            continue\n",
    "        template_name = os.path.basename(qdir)\n",
    "        if sel_templates is not None and template_name not in sel_templates:\n",
    "            continue\n",
    "        \n",
    "        # let's first select all the qfns we are going to load\n",
    "        qfns = list(glob.glob(os.path.join(qdir, \"*.pkl\")))\n",
    "        qfns.sort()\n",
    "        num_samples = max(int(len(qfns)*template_fraction), 1)\n",
    "        random.seed(1234)\n",
    "        qfns = random.sample(qfns, num_samples)\n",
    "        fns += qfns\n",
    "    return fns"
   ]
  },
  {
   "cell_type": "markdown",
   "id": "arranged-waterproof",
   "metadata": {},
   "source": [
    "# Evaluation helper functions"
   ]
  },
  {
   "cell_type": "code",
   "execution_count": 251,
   "id": "collaborative-gambling",
   "metadata": {},
   "outputs": [],
   "source": [
    "def omega_approx(beta):\n",
    "    \"\"\"Return an approximate omega value for given beta. Equation (5) from Gavish 2014.\"\"\"\n",
    "    return 0.56 * beta**3 - 0.95 * beta**2 + 1.82 * beta + 1.43\n",
    "\n",
    "def svht(X, sigma=None, sv=None):\n",
    "    \"\"\"Return the optimal singular value hard threshold (SVHT) value.\n",
    "    `X` is any m-by-n matrix. `sigma` is the standard deviation of the \n",
    "    noise, if known. Optionally supply the vector of singular values `sv`\n",
    "    for the matrix (only necessary when `sigma` is unknown). If `sigma`\n",
    "    is unknown and `sv` is not supplied, then the method automatically\n",
    "    computes the singular values.\"\"\"\n",
    "\n",
    "    try:\n",
    "        m,n = sorted(X.shape) # ensures m <= n\n",
    "    except:\n",
    "        raise ValueError('invalid input matrix')\n",
    "    beta = m / n # ratio between 0 and 1\n",
    "    if sigma is None: # sigma unknown\n",
    "        if sv is None:\n",
    "            sv = svdvals(X)\n",
    "        sv = np.squeeze(sv)\n",
    "        if sv.ndim != 1:\n",
    "            raise ValueError('vector of singular values must be 1-dimensional')\n",
    "        return np.median(sv) * omega_approx(beta)\n",
    "    else: # sigma known\n",
    "        return lambda_star(beta) * np.sqrt(n) * sigma\n",
    "\n",
    "# find tau star hat when sigma is unknown\n",
    "# tau = svht(D, sv=sv)\n",
    "\n",
    "# # find tau star when sigma is known\n",
    "# tau = svht(D, sigma=0.5)"
   ]
  },
  {
   "cell_type": "markdown",
   "id": "lucky-omaha",
   "metadata": {},
   "source": [
    "# Load queries"
   ]
  },
  {
   "cell_type": "code",
   "execution_count": 252,
   "id": "sacred-arena",
   "metadata": {},
   "outputs": [
    {
     "name": "stdout",
     "output_type": "stream",
     "text": [
      "['/Users/pari/MyCEB/queries/imdb-unique-plans/3b', '/Users/pari/MyCEB/queries/imdb-unique-plans/9b', '/Users/pari/MyCEB/queries/imdb-unique-plans/6a', '/Users/pari/MyCEB/queries/imdb-unique-plans/5a', '/Users/pari/MyCEB/queries/imdb-unique-plans/11a', '/Users/pari/MyCEB/queries/imdb-unique-plans/1a', '/Users/pari/MyCEB/queries/imdb-unique-plans/8a', '/Users/pari/MyCEB/queries/imdb-unique-plans/2a', '/Users/pari/MyCEB/queries/imdb-unique-plans/9a', '/Users/pari/MyCEB/queries/imdb-unique-plans/3a', '/Users/pari/MyCEB/queries/imdb-unique-plans/10a', '/Users/pari/MyCEB/queries/imdb-unique-plans/dbdata.json', '/Users/pari/MyCEB/queries/imdb-unique-plans/2c', '/Users/pari/MyCEB/queries/imdb-unique-plans/4a', '/Users/pari/MyCEB/queries/imdb-unique-plans/11b', '/Users/pari/MyCEB/queries/imdb-unique-plans/2b', '/Users/pari/MyCEB/queries/imdb-unique-plans/7a']\n",
      "/Users/pari/MyCEB/queries/imdb-unique-plans/dbdata.json\n",
      "3133\n"
     ]
    }
   ],
   "source": [
    "# set template_fraction <= 1.0 to test quickly w/ smaller datasets\n",
    "# train_qfns = get_query_fns(TRAINDIR, template_fraction = 0.001)\n",
    "# val_qfns = get_query_fns(VALDIR, template_fraction = 1.0)\n",
    "# test_qfns = get_query_fns(TESTDIR, template_fraction = 1.0)\n",
    "\n",
    "#qfns = get_query_fns(TRAINDIR, template_fraction = 1.0, sel_templates=None)\n",
    "\n",
    "qfns = get_query_fns(TRAINDIR, template_fraction = 1.0, sel_templates=None)\n",
    "print(len(qfns))\n",
    "qdata = load_qdata(qfns)"
   ]
  },
  {
   "cell_type": "code",
   "execution_count": 266,
   "id": "b1d0eb3a",
   "metadata": {},
   "outputs": [],
   "source": [
    "from collections import defaultdict\n",
    "import numpy\n",
    "\n",
    "subplan_data = defaultdict(list)\n",
    "\n",
    "rowkeys = set()\n",
    "\n",
    "cur_exps = []\n",
    "\n",
    "qid = 0\n",
    "newqs = {}\n",
    "\n",
    "for qi, qrep in enumerate(qdata):\n",
    "    for node in qrep[\"subset_graph\"].nodes():\n",
    "        rowkeys.add(node)\n",
    "        \n",
    "    tmp = rtdf[rtdf[\"qname\"] == qrep[\"name\"]]\n",
    "    \n",
    "    if len(tmp) != 0:\n",
    "        for explain in tmp[\"exp_analyze\"].values:\n",
    "            newqs[len(cur_exps)] = qid\n",
    "            cur_exps.append(explain)\n",
    "        qid += 1\n",
    "    \n",
    "rowkeys = list(rowkeys)\n",
    "rowkeys.sort()\n",
    "rowidxs = {rk:ri for ri,rk in enumerate(rowkeys)}\n",
    "\n",
    "# mat = np.zeros((len(rowidxs), len(qdata)))\n",
    "\n",
    "# for qi, qrep in enumerate(qdata):\n",
    "#     for node in qrep[\"subset_graph\"].nodes():\n",
    "#         truec = qrep[\"subset_graph\"].nodes()[node][\"cardinality\"][\"actual\"]\n",
    "#         mat[rowidxs[node], qi] = truec\n",
    "        \n",
    "# mat = mat.T"
   ]
  },
  {
   "cell_type": "code",
   "execution_count": 267,
   "id": "empirical-token",
   "metadata": {},
   "outputs": [
    {
     "data": {
      "text/html": [
       "<div>\n",
       "<style scoped>\n",
       "    .dataframe tbody tr th:only-of-type {\n",
       "        vertical-align: middle;\n",
       "    }\n",
       "\n",
       "    .dataframe tbody tr th {\n",
       "        vertical-align: top;\n",
       "    }\n",
       "\n",
       "    .dataframe thead th {\n",
       "        text-align: right;\n",
       "    }\n",
       "</style>\n",
       "<table border=\"1\" class=\"dataframe\">\n",
       "  <thead>\n",
       "    <tr style=\"text-align: right;\">\n",
       "      <th></th>\n",
       "      <th>qname</th>\n",
       "      <th>runtime</th>\n",
       "      <th>exp_analyze</th>\n",
       "    </tr>\n",
       "  </thead>\n",
       "  <tbody>\n",
       "    <tr>\n",
       "      <th>0</th>\n",
       "      <td>68d8bd42c6041022ccdbd830309a7676c66f9e5b.pkl</td>\n",
       "      <td>44.081961</td>\n",
       "      <td>[([{'Plan': {'Node Type': 'Aggregate', 'Strate...</td>\n",
       "    </tr>\n",
       "    <tr>\n",
       "      <th>1</th>\n",
       "      <td>2b248.pkl</td>\n",
       "      <td>11.693408</td>\n",
       "      <td>[([{'Plan': {'Node Type': 'Aggregate', 'Strate...</td>\n",
       "    </tr>\n",
       "    <tr>\n",
       "      <th>2</th>\n",
       "      <td>2a828.pkl</td>\n",
       "      <td>16.728585</td>\n",
       "      <td>[([{'Plan': {'Node Type': 'Aggregate', 'Strate...</td>\n",
       "    </tr>\n",
       "    <tr>\n",
       "      <th>3</th>\n",
       "      <td>2b279.pkl</td>\n",
       "      <td>13.723778</td>\n",
       "      <td>[([{'Plan': {'Node Type': 'Aggregate', 'Strate...</td>\n",
       "    </tr>\n",
       "    <tr>\n",
       "      <th>4</th>\n",
       "      <td>1a1130.pkl</td>\n",
       "      <td>7.577718</td>\n",
       "      <td>[([{'Plan': {'Node Type': 'Aggregate', 'Strate...</td>\n",
       "    </tr>\n",
       "    <tr>\n",
       "      <th>...</th>\n",
       "      <td>...</td>\n",
       "      <td>...</td>\n",
       "      <td>...</td>\n",
       "    </tr>\n",
       "    <tr>\n",
       "      <th>108</th>\n",
       "      <td>23a.pkl</td>\n",
       "      <td>3.908659</td>\n",
       "      <td>[([{'Plan': {'Node Type': 'Aggregate', 'Strate...</td>\n",
       "    </tr>\n",
       "    <tr>\n",
       "      <th>109</th>\n",
       "      <td>18a.pkl</td>\n",
       "      <td>6.445714</td>\n",
       "      <td>[([{'Plan': {'Node Type': 'Aggregate', 'Strate...</td>\n",
       "    </tr>\n",
       "    <tr>\n",
       "      <th>110</th>\n",
       "      <td>2d.pkl</td>\n",
       "      <td>4.485744</td>\n",
       "      <td>[([{'Plan': {'Node Type': 'Aggregate', 'Strate...</td>\n",
       "    </tr>\n",
       "    <tr>\n",
       "      <th>111</th>\n",
       "      <td>10b.pkl</td>\n",
       "      <td>4.893731</td>\n",
       "      <td>[([{'Plan': {'Node Type': 'Aggregate', 'Strate...</td>\n",
       "    </tr>\n",
       "    <tr>\n",
       "      <th>112</th>\n",
       "      <td>20a.pkl</td>\n",
       "      <td>39.794243</td>\n",
       "      <td>[([{'Plan': {'Node Type': 'Aggregate', 'Strate...</td>\n",
       "    </tr>\n",
       "  </tbody>\n",
       "</table>\n",
       "<p>13438 rows × 3 columns</p>\n",
       "</div>"
      ],
      "text/plain": [
       "                                            qname    runtime  \\\n",
       "0    68d8bd42c6041022ccdbd830309a7676c66f9e5b.pkl  44.081961   \n",
       "1                                       2b248.pkl  11.693408   \n",
       "2                                       2a828.pkl  16.728585   \n",
       "3                                       2b279.pkl  13.723778   \n",
       "4                                      1a1130.pkl   7.577718   \n",
       "..                                            ...        ...   \n",
       "108                                       23a.pkl   3.908659   \n",
       "109                                       18a.pkl   6.445714   \n",
       "110                                        2d.pkl   4.485744   \n",
       "111                                       10b.pkl   4.893731   \n",
       "112                                       20a.pkl  39.794243   \n",
       "\n",
       "                                           exp_analyze  \n",
       "0    [([{'Plan': {'Node Type': 'Aggregate', 'Strate...  \n",
       "1    [([{'Plan': {'Node Type': 'Aggregate', 'Strate...  \n",
       "2    [([{'Plan': {'Node Type': 'Aggregate', 'Strate...  \n",
       "3    [([{'Plan': {'Node Type': 'Aggregate', 'Strate...  \n",
       "4    [([{'Plan': {'Node Type': 'Aggregate', 'Strate...  \n",
       "..                                                 ...  \n",
       "108  [([{'Plan': {'Node Type': 'Aggregate', 'Strate...  \n",
       "109  [([{'Plan': {'Node Type': 'Aggregate', 'Strate...  \n",
       "110  [([{'Plan': {'Node Type': 'Aggregate', 'Strate...  \n",
       "111  [([{'Plan': {'Node Type': 'Aggregate', 'Strate...  \n",
       "112  [([{'Plan': {'Node Type': 'Aggregate', 'Strate...  \n",
       "\n",
       "[13438 rows x 3 columns]"
      ]
     },
     "execution_count": 267,
     "metadata": {},
     "output_type": "execute_result"
    }
   ],
   "source": [
    "rtdf"
   ]
  },
  {
   "cell_type": "code",
   "execution_count": 268,
   "id": "original-royalty",
   "metadata": {},
   "outputs": [
    {
     "name": "stdout",
     "output_type": "stream",
     "text": [
      "(4601, 509)\n"
     ]
    }
   ],
   "source": [
    "\n",
    "rtmat = np.zeros((len(rowidxs), qid))\n",
    "print(rtmat.shape)\n",
    "\n",
    "for ei, exp in enumerate(cur_exps):\n",
    "    try:\n",
    "        exp = eval(exp)\n",
    "    except:\n",
    "        continue\n",
    "        \n",
    "    G = explain_to_nx(exp)\n",
    "    cur_qid = newqs[ei]\n",
    "    for node,ndata in G.nodes(data=True):\n",
    "        cal = ndata[\"aliases\"]\n",
    "        cal.sort()\n",
    "        #print(tuple(cal) in rowkeys)\n",
    "        #rt = ndata[\"cur_time\"]\n",
    "        rt = ndata[\"total_time\"]\n",
    "        rtmat[rowidxs[tuple(cal)], cur_qid] = rt\n",
    "        \n",
    "rtmat = rtmat[~np.all(rtmat == 0, axis=1)]"
   ]
  },
  {
   "cell_type": "code",
   "execution_count": 269,
   "id": "documented-tuner",
   "metadata": {},
   "outputs": [
    {
     "data": {
      "text/plain": [
       "(1654, 509)"
      ]
     },
     "execution_count": 269,
     "metadata": {},
     "output_type": "execute_result"
    }
   ],
   "source": [
    "rtmat.shape"
   ]
  },
  {
   "cell_type": "code",
   "execution_count": 270,
   "id": "killing-puzzle",
   "metadata": {},
   "outputs": [
    {
     "name": "stdout",
     "output_type": "stream",
     "text": [
      "Non Zero Fraction:  0.040403332517704296\n"
     ]
    }
   ],
   "source": [
    "nz = np.count_nonzero(rtmat)\n",
    "tot = rtmat.shape[0]*rtmat.shape[1]\n",
    "print(\"Non Zero Fraction: \", nz / tot)"
   ]
  },
  {
   "cell_type": "code",
   "execution_count": 271,
   "id": "efficient-employee",
   "metadata": {},
   "outputs": [
    {
     "name": "stdout",
     "output_type": "stream",
     "text": [
      "(509,)\n",
      "[1.01592174e+07 9.00160857e+06 4.90893358e+06 4.62056071e+06\n",
      " 3.77163450e+06 3.71786919e+06 3.63496288e+06 3.19942351e+06\n",
      " 3.15835543e+06 2.79578898e+06 2.55959702e+06 2.51941712e+06\n",
      " 2.39839262e+06 2.26492260e+06 2.16865087e+06 1.99982487e+06\n",
      " 1.90680718e+06 1.83580904e+06 1.75254706e+06 1.51458447e+06\n",
      " 1.50213903e+06 1.47965763e+06 1.44871811e+06 1.41295235e+06\n",
      " 1.33897436e+06 1.29398851e+06 1.28162696e+06 1.26345177e+06\n",
      " 1.24397436e+06 1.22492950e+06 1.13302091e+06 1.10675848e+06\n",
      " 1.08008061e+06 1.04493092e+06 1.03811483e+06 9.83059660e+05\n",
      " 9.62025810e+05 9.20655860e+05 8.95035680e+05 8.86810040e+05\n",
      " 8.80635750e+05 7.97161830e+05 7.24760680e+05 7.20406620e+05\n",
      " 6.94416180e+05 6.91516040e+05 6.86789060e+05 6.61065820e+05\n",
      " 6.52173440e+05 6.24199090e+05 6.21307760e+05 6.09597140e+05\n",
      " 6.03242770e+05 5.93284820e+05 5.89626370e+05 5.74313320e+05\n",
      " 5.61722940e+05 5.37510190e+05 5.31731440e+05 5.19586850e+05\n",
      " 5.03127550e+05 5.00964990e+05 4.97155650e+05 4.90018890e+05\n",
      " 4.81506450e+05 4.70196980e+05 4.68921850e+05 4.56760910e+05\n",
      " 4.49542770e+05 4.43328400e+05 4.29706530e+05 4.12058460e+05\n",
      " 4.10489290e+05 4.10103550e+05 4.02664880e+05 4.01022020e+05\n",
      " 3.87318580e+05 3.83144050e+05 3.82457760e+05 3.75718500e+05\n",
      " 3.70148970e+05 3.65656590e+05 3.46307040e+05 3.44080430e+05\n",
      " 3.37295500e+05 3.32265300e+05 3.31546490e+05 3.23815870e+05\n",
      " 3.12805450e+05 3.11194360e+05 3.09171570e+05 3.04957560e+05\n",
      " 3.01451380e+05 2.98182190e+05 2.95405200e+05 2.93932670e+05\n",
      " 2.92156680e+05 2.84318520e+05 2.82785280e+05 2.78031920e+05\n",
      " 2.74906350e+05 2.65463000e+05 2.63508070e+05 2.61172100e+05\n",
      " 2.59244380e+05 2.57356150e+05 2.56195880e+05 2.53406220e+05\n",
      " 2.50245100e+05 2.46795050e+05 2.42900690e+05 2.41095670e+05\n",
      " 2.39762110e+05 2.38020420e+05 2.37528550e+05 2.35111780e+05\n",
      " 2.33672050e+05 2.31459280e+05 2.28400290e+05 2.26483330e+05\n",
      " 2.24763440e+05 2.17824140e+05 2.12377790e+05 2.08671400e+05\n",
      " 2.06855690e+05 2.05358350e+05 2.02102400e+05 1.99243010e+05\n",
      " 1.98600100e+05 1.96459030e+05 1.93374660e+05 1.91958000e+05\n",
      " 1.90004020e+05 1.89002050e+05 1.87518950e+05 1.83695630e+05\n",
      " 1.80030370e+05 1.79390890e+05 1.77210290e+05 1.74848950e+05\n",
      " 1.74050400e+05 1.72639990e+05 1.71200230e+05 1.69559170e+05\n",
      " 1.68720320e+05 1.64863010e+05 1.62147990e+05 1.61104090e+05\n",
      " 1.59395770e+05 1.57768750e+05 1.56714440e+05 1.55129080e+05\n",
      " 1.53215650e+05 1.49716690e+05 1.48844090e+05 1.48481110e+05\n",
      " 1.47661870e+05 1.46714450e+05 1.45934670e+05 1.43827540e+05\n",
      " 1.41412470e+05 1.40883710e+05 1.39620120e+05 1.36435940e+05\n",
      " 1.34263960e+05 1.32851870e+05 1.31916750e+05 1.30810110e+05\n",
      " 1.29522250e+05 1.29277500e+05 1.27328370e+05 1.26373270e+05\n",
      " 1.25691230e+05 1.24196100e+05 1.23677010e+05 1.23310530e+05\n",
      " 1.22426750e+05 1.20502060e+05 1.19774330e+05 1.18465320e+05\n",
      " 1.16990260e+05 1.15990730e+05 1.15249490e+05 1.15221700e+05\n",
      " 1.13241230e+05 1.11788760e+05 1.11378940e+05 1.09454620e+05\n",
      " 1.08494090e+05 1.07036980e+05 1.06076970e+05 1.05497710e+05\n",
      " 1.05162710e+05 1.04296990e+05 1.03154740e+05 1.02293240e+05\n",
      " 1.01672670e+05 9.99528000e+04 9.93518700e+04 9.76719300e+04\n",
      " 9.67606300e+04 9.63316700e+04 9.27455700e+04 9.22040700e+04\n",
      " 9.16351400e+04 9.09568700e+04 9.05574300e+04 8.93008900e+04\n",
      " 8.84162600e+04 8.79949800e+04 8.73333800e+04 8.62953100e+04\n",
      " 8.53485100e+04 8.52329200e+04 8.47667000e+04 8.37525400e+04\n",
      " 8.25284200e+04 8.21376000e+04 8.11379500e+04 8.05625900e+04\n",
      " 7.99524200e+04 7.97970200e+04 7.86822500e+04 7.82452400e+04\n",
      " 7.77630700e+04 7.74177600e+04 7.71256600e+04 7.65235500e+04\n",
      " 7.55862100e+04 7.50726600e+04 7.42318700e+04 7.37952000e+04\n",
      " 7.33345100e+04 7.25042700e+04 7.15453200e+04 7.09998200e+04\n",
      " 7.05388800e+04 6.99324000e+04 6.86508100e+04 6.80869100e+04\n",
      " 6.67382800e+04 6.62729600e+04 6.51935400e+04 6.43615400e+04\n",
      " 6.41748600e+04 6.34682800e+04 6.26297200e+04 6.19159100e+04\n",
      " 6.17581000e+04 6.17271300e+04 6.07868500e+04 5.99328400e+04\n",
      " 5.97029700e+04 5.91676700e+04 5.86366600e+04 5.82317300e+04\n",
      " 5.78012600e+04 5.72709400e+04 5.66913500e+04 5.63272700e+04\n",
      " 5.61522500e+04 5.58252900e+04 5.52918600e+04 5.48849100e+04\n",
      " 5.43669000e+04 5.39614100e+04 5.31049000e+04 5.23384300e+04\n",
      " 5.15550100e+04 5.12573100e+04 5.08010500e+04 4.98569500e+04\n",
      " 4.91701200e+04 4.86005200e+04 4.83519800e+04 4.82104900e+04\n",
      " 4.72534100e+04 4.70753700e+04 4.65882300e+04 4.57422000e+04\n",
      " 4.53703700e+04 4.48690700e+04 4.46853900e+04 4.43713000e+04\n",
      " 4.35890500e+04 4.32495800e+04 4.29224100e+04 4.25728400e+04\n",
      " 4.19737300e+04 4.18425300e+04 4.11380500e+04 4.08707600e+04\n",
      " 4.04323100e+04 4.00151700e+04 3.96797200e+04 3.95285500e+04\n",
      " 3.89788600e+04 3.87289200e+04 3.80231600e+04 3.77215100e+04\n",
      " 3.70940700e+04 3.66856400e+04 3.65979800e+04 3.62812200e+04\n",
      " 3.57617000e+04 3.56327300e+04 3.55864600e+04 3.49370500e+04\n",
      " 3.47375600e+04 3.38208600e+04 3.32472400e+04 3.31619100e+04\n",
      " 3.27607500e+04 3.23513800e+04 3.21832900e+04 3.19284000e+04\n",
      " 3.09957100e+04 3.05041800e+04 3.02037300e+04 3.00502000e+04\n",
      " 2.98816800e+04 2.94556400e+04 2.90359600e+04 2.84660200e+04\n",
      " 2.79693000e+04 2.77002200e+04 2.74812200e+04 2.73571800e+04\n",
      " 2.68369000e+04 2.66535400e+04 2.61875600e+04 2.55923600e+04\n",
      " 2.55053700e+04 2.53861900e+04 2.48238500e+04 2.46723700e+04\n",
      " 2.43571800e+04 2.41993700e+04 2.38833900e+04 2.33475400e+04\n",
      " 2.28091300e+04 2.27488300e+04 2.22150800e+04 2.17000400e+04\n",
      " 2.13420500e+04 2.13250700e+04 2.10724200e+04 2.07205800e+04\n",
      " 2.02392400e+04 2.00802000e+04 1.99823100e+04 1.98828500e+04\n",
      " 1.96155800e+04 1.94351400e+04 1.89972400e+04 1.88697500e+04\n",
      " 1.85445500e+04 1.82872300e+04 1.81668400e+04 1.78241200e+04\n",
      " 1.75965500e+04 1.73649200e+04 1.71630100e+04 1.67703100e+04\n",
      " 1.61020900e+04 1.58186200e+04 1.57432700e+04 1.56440400e+04\n",
      " 1.52733500e+04 1.51772000e+04 1.50366800e+04 1.48358400e+04\n",
      " 1.42609500e+04 1.39748600e+04 1.38427000e+04 1.35846100e+04\n",
      " 1.32775000e+04 1.31045500e+04 1.29796200e+04 1.28338600e+04\n",
      " 1.27551400e+04 1.26880300e+04 1.25807500e+04 1.22864900e+04\n",
      " 1.21237000e+04 1.17801900e+04 1.16789400e+04 1.14126900e+04\n",
      " 1.12652800e+04 1.11066200e+04 1.07590700e+04 1.05965900e+04\n",
      " 1.02334100e+04 1.00350800e+04 9.82585000e+03 9.38614000e+03\n",
      " 9.25482000e+03 9.09779000e+03 8.81415000e+03 8.66307000e+03\n",
      " 8.48635000e+03 8.27602000e+03 8.11300000e+03 7.74864000e+03\n",
      " 7.55274000e+03 7.40808000e+03 7.37738000e+03 7.02997000e+03\n",
      " 6.96749000e+03 6.80100000e+03 6.59865000e+03 6.53582000e+03\n",
      " 6.35728000e+03 6.16759000e+03 5.95000000e+03 5.79158000e+03\n",
      " 5.71664000e+03 5.56510000e+03 5.39951000e+03 5.27015000e+03\n",
      " 4.99926000e+03 4.69837000e+03 4.57752000e+03 4.48341000e+03\n",
      " 4.33665000e+03 4.09782000e+03 4.05551000e+03 3.88056000e+03\n",
      " 3.69209000e+03 3.58355000e+03 3.43606000e+03 3.23974000e+03\n",
      " 3.18136000e+03 3.08884000e+03 2.97386000e+03 2.84435000e+03\n",
      " 2.61708000e+03 2.56609000e+03 2.34580000e+03 2.29491000e+03\n",
      " 2.22658000e+03 2.19719000e+03 2.01923000e+03 1.87882000e+03\n",
      " 1.82760000e+03 1.75521000e+03 1.54484000e+03 1.49749000e+03\n",
      " 1.38026000e+03 1.31663000e+03 1.29807000e+03 1.23993000e+03\n",
      " 1.07995000e+03 1.02246000e+03 9.19530000e+02 8.90170000e+02\n",
      " 8.58900000e+02 7.06590000e+02 6.44780000e+02 5.83690000e+02\n",
      " 5.45740000e+02 5.03750000e+02 4.52510000e+02 3.28760000e+02\n",
      " 2.02250000e+02 1.80190000e+02 7.96500000e+01 0.00000000e+00\n",
      " 0.00000000e+00 0.00000000e+00 0.00000000e+00 0.00000000e+00\n",
      " 0.00000000e+00 0.00000000e+00 0.00000000e+00 0.00000000e+00\n",
      " 0.00000000e+00 0.00000000e+00 0.00000000e+00 0.00000000e+00\n",
      " 0.00000000e+00 0.00000000e+00 0.00000000e+00 0.00000000e+00\n",
      " 0.00000000e+00 0.00000000e+00 0.00000000e+00 0.00000000e+00\n",
      " 0.00000000e+00 0.00000000e+00 0.00000000e+00 0.00000000e+00\n",
      " 0.00000000e+00 0.00000000e+00 0.00000000e+00 0.00000000e+00\n",
      " 0.00000000e+00 0.00000000e+00 0.00000000e+00 0.00000000e+00\n",
      " 0.00000000e+00 0.00000000e+00 0.00000000e+00 0.00000000e+00\n",
      " 0.00000000e+00 0.00000000e+00 0.00000000e+00 0.00000000e+00\n",
      " 0.00000000e+00]\n"
     ]
    }
   ],
   "source": [
    "P, S, Q = np.linalg.svd(rtmat, full_matrices=False)\n",
    "print(S.shape)\n",
    "print(S.round(2))"
   ]
  },
  {
   "cell_type": "code",
   "execution_count": 275,
   "id": "entertaining-precipitation",
   "metadata": {},
   "outputs": [
    {
     "data": {
      "image/png": "[encoded data removed]",
      "text/plain": [
       "<Figure size 432x288 with 1 Axes>"
      ]
     },
     "metadata": {
      "needs_background": "light"
     },
     "output_type": "display_data"
    }
   ],
   "source": [
    "import seaborn as sns\n",
    "import matplotlib.pyplot as plt\n",
    "\n",
    "#sns.lineplot(np.log(S))\n",
    "#sns.lineplot(y=S)\n",
    "plt.plot(S)\n",
    "plt.yscale(\"log\")\n",
    "plt.show()"
   ]
  },
  {
   "cell_type": "code",
   "execution_count": 273,
   "id": "exclusive-explosion",
   "metadata": {},
   "outputs": [
    {
     "name": "stdout",
     "output_type": "stream",
     "text": [
      "90% explained by:  151\n",
      "Noise cut-off:  197\n"
     ]
    }
   ],
   "source": [
    "cds = np.cumsum(S) / np.sum(S)\n",
    "r90 = np.min(np.where(cds > 0.90))\n",
    "print(\"90% explained by: \", r90)\n",
    "\n",
    "tau = svht(mat, sv=S)\n",
    "rank = np.sum(S > tau)\n",
    "print(\"Noise cut-off: \", rank)"
   ]
  },
  {
   "cell_type": "code",
   "execution_count": null,
   "id": "vietnamese-honolulu",
   "metadata": {},
   "outputs": [],
   "source": []
  }
 ],
 "metadata": {
  "kernelspec": {
   "display_name": "Python 3",
   "language": "python",
   "name": "python3"
  },
  "language_info": {
   "codemirror_mode": {
    "name": "ipython",
    "version": 3
   },
   "file_extension": ".py",
   "mimetype": "text/x-python",
   "name": "python",
   "nbconvert_exporter": "python",
   "pygments_lexer": "ipython3",
   "version": "3.9.10"
  }
 },
 "nbformat": 4,
 "nbformat_minor": 5
}
